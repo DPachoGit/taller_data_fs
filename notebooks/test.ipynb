{
 "cells": [
  {
   "cell_type": "code",
   "execution_count": 355,
   "metadata": {},
   "outputs": [],
   "source": [
    "# importar librerías\n",
    "import pandas as pd\n",
    "import numpy as np\n",
    "import matplotlib.pyplot as plt\n",
    "import seaborn as sns\n",
    "import regex as re\n",
    "from sklearn.preprocessing import MinMaxScaler"
   ]
  },
  {
   "cell_type": "code",
   "execution_count": 356,
   "metadata": {},
   "outputs": [
    {
     "name": "stdout",
     "output_type": "stream",
     "text": [
      "<class 'pandas.core.frame.DataFrame'>\n",
      "Index: 101365 entries, 8459 to 2576472\n",
      "Data columns (total 10 columns):\n",
      " #   Column         Non-Null Count   Dtype \n",
      "---  ------         --------------   ----- \n",
      " 0   title          101365 non-null  object\n",
      " 1   price          101365 non-null  int64 \n",
      " 2   surface        101365 non-null  int64 \n",
      " 3   bedrooms       101365 non-null  int64 \n",
      " 4   restrooms      101365 non-null  int64 \n",
      " 5   features       101362 non-null  object\n",
      " 6   description    98617 non-null   object\n",
      " 7   rent           101365 non-null  int64 \n",
      " 8   location_name  101365 non-null  object\n",
      " 9   is_province    101365 non-null  int64 \n",
      "dtypes: int64(6), object(4)\n",
      "memory usage: 8.5+ MB\n"
     ]
    }
   ],
   "source": [
    "# Leer archivo\n",
    "df = pd.read_csv('housing.csv', index_col='id')\n",
    "df.info()"
   ]
  },
  {
   "cell_type": "code",
   "execution_count": 357,
   "metadata": {},
   "outputs": [
    {
     "name": "stdout",
     "output_type": "stream",
     "text": [
      "<class 'pandas.core.frame.DataFrame'>\n",
      "Index: 101365 entries, 8459 to 2576472\n",
      "Data columns (total 10 columns):\n",
      " #   Column         Non-Null Count   Dtype \n",
      "---  ------         --------------   ----- \n",
      " 0   title          101365 non-null  object\n",
      " 1   price          101365 non-null  int64 \n",
      " 2   surface        101365 non-null  int64 \n",
      " 3   bedrooms       101365 non-null  int64 \n",
      " 4   restrooms      101365 non-null  int64 \n",
      " 5   features       101362 non-null  object\n",
      " 6   description    98617 non-null   object\n",
      " 7   rent           101365 non-null  int64 \n",
      " 8   location_name  101365 non-null  object\n",
      " 9   is_province    101365 non-null  int64 \n",
      "dtypes: int64(6), object(4)\n",
      "memory usage: 8.5+ MB\n"
     ]
    }
   ],
   "source": [
    "# Ver si hay Nans\n",
    "df.info()"
   ]
  },
  {
   "cell_type": "code",
   "execution_count": 358,
   "metadata": {},
   "outputs": [
    {
     "name": "stdout",
     "output_type": "stream",
     "text": [
      "<class 'pandas.core.frame.DataFrame'>\n",
      "Index: 97519 entries, 8459 to 2576472\n",
      "Data columns (total 10 columns):\n",
      " #   Column         Non-Null Count  Dtype \n",
      "---  ------         --------------  ----- \n",
      " 0   title          97519 non-null  object\n",
      " 1   price          97519 non-null  int64 \n",
      " 2   surface        97519 non-null  int64 \n",
      " 3   bedrooms       97519 non-null  int64 \n",
      " 4   restrooms      97519 non-null  int64 \n",
      " 5   features       97519 non-null  object\n",
      " 6   description    94856 non-null  object\n",
      " 7   rent           97519 non-null  int64 \n",
      " 8   location_name  97519 non-null  object\n",
      " 9   is_province    97519 non-null  int64 \n",
      "dtypes: int64(6), object(4)\n",
      "memory usage: 8.2+ MB\n"
     ]
    }
   ],
   "source": [
    "# Eliminar filas donde 'bedrooms' es -1 o mayor que 5\n",
    "df = df[(df['bedrooms'] != -1) & (df['bedrooms'] <= 5)]\n",
    "df.info()"
   ]
  },
  {
   "cell_type": "code",
   "execution_count": 359,
   "metadata": {},
   "outputs": [
    {
     "data": {
      "text/html": [
       "<div>\n",
       "<style scoped>\n",
       "    .dataframe tbody tr th:only-of-type {\n",
       "        vertical-align: middle;\n",
       "    }\n",
       "\n",
       "    .dataframe tbody tr th {\n",
       "        vertical-align: top;\n",
       "    }\n",
       "\n",
       "    .dataframe thead th {\n",
       "        text-align: right;\n",
       "    }\n",
       "</style>\n",
       "<table border=\"1\" class=\"dataframe\">\n",
       "  <thead>\n",
       "    <tr style=\"text-align: right;\">\n",
       "      <th></th>\n",
       "      <th>title</th>\n",
       "      <th>price</th>\n",
       "      <th>surface</th>\n",
       "      <th>bedrooms</th>\n",
       "      <th>restrooms</th>\n",
       "      <th>features</th>\n",
       "      <th>description</th>\n",
       "      <th>rent</th>\n",
       "      <th>location_name</th>\n",
       "      <th>is_province</th>\n",
       "    </tr>\n",
       "    <tr>\n",
       "      <th>id</th>\n",
       "      <th></th>\n",
       "      <th></th>\n",
       "      <th></th>\n",
       "      <th></th>\n",
       "      <th></th>\n",
       "      <th></th>\n",
       "      <th></th>\n",
       "      <th></th>\n",
       "      <th></th>\n",
       "      <th></th>\n",
       "    </tr>\n",
       "  </thead>\n",
       "  <tbody>\n",
       "    <tr>\n",
       "      <th>8459</th>\n",
       "      <td>Piso de alquiler en Rúa Eugenio Carre Aldao, O...</td>\n",
       "      <td>630</td>\n",
       "      <td>85</td>\n",
       "      <td>3</td>\n",
       "      <td>2</td>\n",
       "      <td>3 habs.,2 baños,85 m²,2ª Planta</td>\n",
       "      <td>CURSO ESCOLAR. INTERNET INCLUIDO. Vivienda con...</td>\n",
       "      <td>1</td>\n",
       "      <td>A Coruña</td>\n",
       "      <td>1</td>\n",
       "    </tr>\n",
       "    <tr>\n",
       "      <th>8460</th>\n",
       "      <td>Piso de alquiler en Rúa Rodrigo a de Santiago,...</td>\n",
       "      <td>450</td>\n",
       "      <td>70</td>\n",
       "      <td>3</td>\n",
       "      <td>1</td>\n",
       "      <td>3 habs.,1 baño,70 m²,4ª Planta</td>\n",
       "      <td>Vivienda muy soleada de 3 habitaciones semiamu...</td>\n",
       "      <td>1</td>\n",
       "      <td>A Coruña</td>\n",
       "      <td>1</td>\n",
       "    </tr>\n",
       "  </tbody>\n",
       "</table>\n",
       "</div>"
      ],
      "text/plain": [
       "                                                  title  price  surface  \\\n",
       "id                                                                        \n",
       "8459  Piso de alquiler en Rúa Eugenio Carre Aldao, O...    630       85   \n",
       "8460  Piso de alquiler en Rúa Rodrigo a de Santiago,...    450       70   \n",
       "\n",
       "      bedrooms  restrooms                         features  \\\n",
       "id                                                           \n",
       "8459         3          2  3 habs.,2 baños,85 m²,2ª Planta   \n",
       "8460         3          1   3 habs.,1 baño,70 m²,4ª Planta   \n",
       "\n",
       "                                            description  rent location_name  \\\n",
       "id                                                                            \n",
       "8459  CURSO ESCOLAR. INTERNET INCLUIDO. Vivienda con...     1      A Coruña   \n",
       "8460  Vivienda muy soleada de 3 habitaciones semiamu...     1      A Coruña   \n",
       "\n",
       "      is_province  \n",
       "id                 \n",
       "8459            1  \n",
       "8460            1  "
      ]
     },
     "execution_count": 359,
     "metadata": {},
     "output_type": "execute_result"
    }
   ],
   "source": [
    "df.head(2)"
   ]
  },
  {
   "cell_type": "code",
   "execution_count": 360,
   "metadata": {},
   "outputs": [
    {
     "name": "stdout",
     "output_type": "stream",
     "text": [
      "<class 'pandas.core.frame.DataFrame'>\n",
      "Index: 97519 entries, 8459 to 2576472\n",
      "Data columns (total 10 columns):\n",
      " #   Column         Non-Null Count  Dtype \n",
      "---  ------         --------------  ----- \n",
      " 0   title          97519 non-null  object\n",
      " 1   price          97519 non-null  int64 \n",
      " 2   surface        97519 non-null  int64 \n",
      " 3   bedrooms       97519 non-null  int64 \n",
      " 4   restrooms      97519 non-null  int64 \n",
      " 5   features       97519 non-null  object\n",
      " 6   description    94856 non-null  object\n",
      " 7   rent           97519 non-null  int64 \n",
      " 8   location_name  97519 non-null  object\n",
      " 9   is_province    97519 non-null  int64 \n",
      "dtypes: int64(6), object(4)\n",
      "memory usage: 8.2+ MB\n"
     ]
    }
   ],
   "source": [
    "df.info()"
   ]
  },
  {
   "cell_type": "code",
   "execution_count": 361,
   "metadata": {},
   "outputs": [
    {
     "data": {
      "text/plain": [
       "price\n",
       "-1          1509\n",
       " 25            3\n",
       " 30            2\n",
       " 35            1\n",
       " 40            2\n",
       "            ... \n",
       " 699000        1\n",
       " 900000        1\n",
       " 1049000       1\n",
       " 1300000       1\n",
       " 2222222       1\n",
       "Name: count, Length: 1303, dtype: int64"
      ]
     },
     "execution_count": 361,
     "metadata": {},
     "output_type": "execute_result"
    }
   ],
   "source": [
    "# Quitar OUTLIERS\n",
    "df[\"price\"].value_counts().sort_index()"
   ]
  },
  {
   "cell_type": "code",
   "execution_count": 362,
   "metadata": {},
   "outputs": [],
   "source": [
    "df = df[(df[\"price\"] > 200) & (df[\"price\"] < 2000)]"
   ]
  },
  {
   "cell_type": "code",
   "execution_count": 363,
   "metadata": {},
   "outputs": [],
   "source": [
    "df = df[(df[\"surface\"] > 30) & (df[\"surface\"] < 300)]"
   ]
  },
  {
   "cell_type": "code",
   "execution_count": 364,
   "metadata": {},
   "outputs": [],
   "source": [
    "df = df[(df[\"bedrooms\"] > 0) & (df[\"bedrooms\"] < 5)]"
   ]
  },
  {
   "cell_type": "code",
   "execution_count": 365,
   "metadata": {},
   "outputs": [
    {
     "name": "stdout",
     "output_type": "stream",
     "text": [
      "<class 'pandas.core.frame.DataFrame'>\n",
      "Index: 84671 entries, 8459 to 2576472\n",
      "Data columns (total 10 columns):\n",
      " #   Column         Non-Null Count  Dtype \n",
      "---  ------         --------------  ----- \n",
      " 0   title          84671 non-null  object\n",
      " 1   price          84671 non-null  int64 \n",
      " 2   surface        84671 non-null  int64 \n",
      " 3   bedrooms       84671 non-null  int64 \n",
      " 4   restrooms      84671 non-null  int64 \n",
      " 5   features       84671 non-null  object\n",
      " 6   description    82279 non-null  object\n",
      " 7   rent           84671 non-null  int64 \n",
      " 8   location_name  84671 non-null  object\n",
      " 9   is_province    84671 non-null  int64 \n",
      "dtypes: int64(6), object(4)\n",
      "memory usage: 7.1+ MB\n"
     ]
    }
   ],
   "source": [
    "df = df[(df[\"restrooms\"] > 0) & (df[\"restrooms\"] < 5)]\n",
    "\n",
    "df.info()"
   ]
  },
  {
   "cell_type": "code",
   "execution_count": 366,
   "metadata": {},
   "outputs": [
    {
     "data": {
      "text/plain": [
       "array(['A Coruña', 'Alacant', 'Albacete', 'Almería', 'Araba', 'Asturias',\n",
       "       'Ávila', 'Badajoz', 'Barcelona', 'Bizkaia', 'Burgos', 'Cáceres',\n",
       "       'Cádiz', 'Cantabria', 'Castelló', 'Ciudad Real', 'Córdoba',\n",
       "       'Cuenca', 'Gipuzkoa', 'Girona', 'Granada', 'Guadalajara', 'Huelva',\n",
       "       'Huesca', 'Illes Balears', 'Jaén', 'La Rioja', 'Las Palmas',\n",
       "       'León', 'Lleida', 'Lugo', 'Madrid', 'Málaga', 'Murcia', 'Navarra',\n",
       "       'Ourense', 'Palencia', 'Pontevedra', 'Salamanca',\n",
       "       'Santa Cruz de Tenerife', 'Segovia', 'Sevilla', 'Soria',\n",
       "       'Tarragona', 'Teruel', 'Toledo', 'Valencia', 'Valladolid',\n",
       "       'Zamora', 'Zaragoza'], dtype=object)"
      ]
     },
     "execution_count": 366,
     "metadata": {},
     "output_type": "execute_result"
    }
   ],
   "source": [
    "# ver columna \"location_name\"\n",
    "df[\"location_name\"].unique()"
   ]
  },
  {
   "cell_type": "code",
   "execution_count": 367,
   "metadata": {},
   "outputs": [],
   "source": [
    "# # Aplicar get_dummies a columna \"location_name\" para crear columnas binarias\n",
    "# df_dummies = pd.get_dummies(df['location_name']).astype(int)\n",
    "\n",
    "# # Eliminar una de las columnas binarias (por ejemplo, la primera)\n",
    "# columna_a_eliminar = df_dummies.columns[0]\n",
    "# df_dummies = df_dummies.drop(columns=[columna_a_eliminar])\n",
    "\n",
    "# # Concatenar las columnas binarias al DataFrame original\n",
    "# df = pd.concat([df, df_dummies], axis=1)"
   ]
  },
  {
   "cell_type": "code",
   "execution_count": 368,
   "metadata": {},
   "outputs": [
    {
     "data": {
      "text/html": [
       "<div>\n",
       "<style scoped>\n",
       "    .dataframe tbody tr th:only-of-type {\n",
       "        vertical-align: middle;\n",
       "    }\n",
       "\n",
       "    .dataframe tbody tr th {\n",
       "        vertical-align: top;\n",
       "    }\n",
       "\n",
       "    .dataframe thead th {\n",
       "        text-align: right;\n",
       "    }\n",
       "</style>\n",
       "<table border=\"1\" class=\"dataframe\">\n",
       "  <thead>\n",
       "    <tr style=\"text-align: right;\">\n",
       "      <th></th>\n",
       "      <th>title</th>\n",
       "      <th>price</th>\n",
       "      <th>surface</th>\n",
       "      <th>bedrooms</th>\n",
       "      <th>restrooms</th>\n",
       "      <th>features</th>\n",
       "      <th>description</th>\n",
       "      <th>rent</th>\n",
       "      <th>location_name</th>\n",
       "      <th>is_province</th>\n",
       "    </tr>\n",
       "    <tr>\n",
       "      <th>id</th>\n",
       "      <th></th>\n",
       "      <th></th>\n",
       "      <th></th>\n",
       "      <th></th>\n",
       "      <th></th>\n",
       "      <th></th>\n",
       "      <th></th>\n",
       "      <th></th>\n",
       "      <th></th>\n",
       "      <th></th>\n",
       "    </tr>\n",
       "  </thead>\n",
       "  <tbody>\n",
       "    <tr>\n",
       "      <th>8459</th>\n",
       "      <td>Piso de alquiler en Rúa Eugenio Carre Aldao, O...</td>\n",
       "      <td>630</td>\n",
       "      <td>85</td>\n",
       "      <td>3</td>\n",
       "      <td>2</td>\n",
       "      <td>3 habs.,2 baños,85 m²,2ª Planta</td>\n",
       "      <td>CURSO ESCOLAR. INTERNET INCLUIDO. Vivienda con...</td>\n",
       "      <td>1</td>\n",
       "      <td>A Coruña</td>\n",
       "      <td>1</td>\n",
       "    </tr>\n",
       "    <tr>\n",
       "      <th>8460</th>\n",
       "      <td>Piso de alquiler en Rúa Rodrigo a de Santiago,...</td>\n",
       "      <td>450</td>\n",
       "      <td>70</td>\n",
       "      <td>3</td>\n",
       "      <td>1</td>\n",
       "      <td>3 habs.,1 baño,70 m²,4ª Planta</td>\n",
       "      <td>Vivienda muy soleada de 3 habitaciones semiamu...</td>\n",
       "      <td>1</td>\n",
       "      <td>A Coruña</td>\n",
       "      <td>1</td>\n",
       "    </tr>\n",
       "  </tbody>\n",
       "</table>\n",
       "</div>"
      ],
      "text/plain": [
       "                                                  title  price  surface  \\\n",
       "id                                                                        \n",
       "8459  Piso de alquiler en Rúa Eugenio Carre Aldao, O...    630       85   \n",
       "8460  Piso de alquiler en Rúa Rodrigo a de Santiago,...    450       70   \n",
       "\n",
       "      bedrooms  restrooms                         features  \\\n",
       "id                                                           \n",
       "8459         3          2  3 habs.,2 baños,85 m²,2ª Planta   \n",
       "8460         3          1   3 habs.,1 baño,70 m²,4ª Planta   \n",
       "\n",
       "                                            description  rent location_name  \\\n",
       "id                                                                            \n",
       "8459  CURSO ESCOLAR. INTERNET INCLUIDO. Vivienda con...     1      A Coruña   \n",
       "8460  Vivienda muy soleada de 3 habitaciones semiamu...     1      A Coruña   \n",
       "\n",
       "      is_province  \n",
       "id                 \n",
       "8459            1  \n",
       "8460            1  "
      ]
     },
     "execution_count": 368,
     "metadata": {},
     "output_type": "execute_result"
    }
   ],
   "source": [
    "df.head(2)"
   ]
  },
  {
   "cell_type": "code",
   "execution_count": 369,
   "metadata": {},
   "outputs": [
    {
     "name": "stdout",
     "output_type": "stream",
     "text": [
      "<class 'pandas.core.frame.DataFrame'>\n",
      "Index: 84671 entries, 8459 to 2576472\n",
      "Data columns (total 10 columns):\n",
      " #   Column         Non-Null Count  Dtype \n",
      "---  ------         --------------  ----- \n",
      " 0   title          84671 non-null  object\n",
      " 1   price          84671 non-null  int64 \n",
      " 2   surface        84671 non-null  int64 \n",
      " 3   bedrooms       84671 non-null  int64 \n",
      " 4   restrooms      84671 non-null  int64 \n",
      " 5   features       84671 non-null  object\n",
      " 6   description    82279 non-null  object\n",
      " 7   rent           84671 non-null  int64 \n",
      " 8   location_name  84671 non-null  object\n",
      " 9   is_province    84671 non-null  int64 \n",
      "dtypes: int64(6), object(4)\n",
      "memory usage: 7.1+ MB\n"
     ]
    }
   ],
   "source": [
    "df.info()"
   ]
  },
  {
   "cell_type": "code",
   "execution_count": 370,
   "metadata": {},
   "outputs": [
    {
     "data": {
      "text/plain": [
       "features\n",
       "1 hab.,1 baño,50 m²,1ª Planta,Ascensor              256\n",
       "2 habs.,1 baño,70 m²,2ª Planta,Ascensor             240\n",
       "2 habs.,1 baño,70 m²,1ª Planta,Ascensor             235\n",
       "3 habs.,2 baños,90 m²,1ª Planta,Ascensor            213\n",
       "3 habs.,2 baños,90 m²,2ª Planta,Ascensor            212\n",
       "                                                   ... \n",
       "3 habs.,4 baños,290 m²,Terraza,Piscina                1\n",
       "1 hab.,1 baño,71 m²                                   1\n",
       "3 habs.,2 baños,90 m²,Parking,Aire acondicionado      1\n",
       "3 habs.,1 baño,56 m²,Parking,Calefacción              1\n",
       "4 habs.,4 baños,211 m²,Terraza,Balcón                 1\n",
       "Name: count, Length: 18989, dtype: int64"
      ]
     },
     "execution_count": 370,
     "metadata": {},
     "output_type": "execute_result"
    }
   ],
   "source": [
    "# ver columna \"features\"\n",
    "df[\"features\"].value_counts()"
   ]
  },
  {
   "cell_type": "code",
   "execution_count": 371,
   "metadata": {},
   "outputs": [],
   "source": [
    "# Crear una nueva columna 'Tiene_Calefaccion' con valores 1 y 0\n",
    "df['Calefaccion'] = df['features'].str.contains(r'Calefacción', case=False).astype(int)"
   ]
  },
  {
   "cell_type": "code",
   "execution_count": 372,
   "metadata": {},
   "outputs": [
    {
     "name": "stdout",
     "output_type": "stream",
     "text": [
      "<class 'pandas.core.frame.DataFrame'>\n",
      "Index: 84671 entries, 8459 to 2576472\n",
      "Data columns (total 11 columns):\n",
      " #   Column         Non-Null Count  Dtype \n",
      "---  ------         --------------  ----- \n",
      " 0   title          84671 non-null  object\n",
      " 1   price          84671 non-null  int64 \n",
      " 2   surface        84671 non-null  int64 \n",
      " 3   bedrooms       84671 non-null  int64 \n",
      " 4   restrooms      84671 non-null  int64 \n",
      " 5   features       84671 non-null  object\n",
      " 6   description    82279 non-null  object\n",
      " 7   rent           84671 non-null  int64 \n",
      " 8   location_name  84671 non-null  object\n",
      " 9   is_province    84671 non-null  int64 \n",
      " 10  Calefaccion    84671 non-null  int32 \n",
      "dtypes: int32(1), int64(6), object(4)\n",
      "memory usage: 7.4+ MB\n"
     ]
    }
   ],
   "source": [
    "df.info()"
   ]
  },
  {
   "cell_type": "code",
   "execution_count": 373,
   "metadata": {},
   "outputs": [],
   "source": [
    "# Crear una nueva columna 'Tiene_Terraza' con valores 1 y 0\n",
    "df['Terraza'] = df['features'].str.contains(r'Terraza', case=False).astype(int)"
   ]
  },
  {
   "cell_type": "code",
   "execution_count": 374,
   "metadata": {},
   "outputs": [],
   "source": [
    "# Crear una nueva columna 'Tiene_Ascensor' con valores 1 y 0\n",
    "df['Ascensor'] = df['features'].str.contains(r'Ascensor', case=False).astype(int)"
   ]
  },
  {
   "cell_type": "code",
   "execution_count": 375,
   "metadata": {},
   "outputs": [],
   "source": [
    "# Crear una nueva columna 'Tiene_Balcón' con valores 1 y 0\n",
    "df['Balcón'] = df['features'].str.contains(r'Balcón', case=False).astype(int)"
   ]
  },
  {
   "cell_type": "code",
   "execution_count": 376,
   "metadata": {},
   "outputs": [],
   "source": [
    "# Crear una nueva columna 'Tiene_Parking' con valores 1 y 0\n",
    "df['Parking'] = df['features'].str.contains(r'Parking', case=False).astype(int)"
   ]
  },
  {
   "cell_type": "code",
   "execution_count": 377,
   "metadata": {},
   "outputs": [
    {
     "data": {
      "text/html": [
       "<div>\n",
       "<style scoped>\n",
       "    .dataframe tbody tr th:only-of-type {\n",
       "        vertical-align: middle;\n",
       "    }\n",
       "\n",
       "    .dataframe tbody tr th {\n",
       "        vertical-align: top;\n",
       "    }\n",
       "\n",
       "    .dataframe thead th {\n",
       "        text-align: right;\n",
       "    }\n",
       "</style>\n",
       "<table border=\"1\" class=\"dataframe\">\n",
       "  <thead>\n",
       "    <tr style=\"text-align: right;\">\n",
       "      <th></th>\n",
       "      <th>title</th>\n",
       "      <th>price</th>\n",
       "      <th>surface</th>\n",
       "      <th>bedrooms</th>\n",
       "      <th>restrooms</th>\n",
       "      <th>features</th>\n",
       "      <th>description</th>\n",
       "      <th>rent</th>\n",
       "      <th>location_name</th>\n",
       "      <th>is_province</th>\n",
       "      <th>Calefaccion</th>\n",
       "      <th>Terraza</th>\n",
       "      <th>Ascensor</th>\n",
       "      <th>Balcón</th>\n",
       "      <th>Parking</th>\n",
       "    </tr>\n",
       "    <tr>\n",
       "      <th>id</th>\n",
       "      <th></th>\n",
       "      <th></th>\n",
       "      <th></th>\n",
       "      <th></th>\n",
       "      <th></th>\n",
       "      <th></th>\n",
       "      <th></th>\n",
       "      <th></th>\n",
       "      <th></th>\n",
       "      <th></th>\n",
       "      <th></th>\n",
       "      <th></th>\n",
       "      <th></th>\n",
       "      <th></th>\n",
       "      <th></th>\n",
       "    </tr>\n",
       "  </thead>\n",
       "  <tbody>\n",
       "    <tr>\n",
       "      <th>8459</th>\n",
       "      <td>Piso de alquiler en Rúa Eugenio Carre Aldao, O...</td>\n",
       "      <td>630</td>\n",
       "      <td>85</td>\n",
       "      <td>3</td>\n",
       "      <td>2</td>\n",
       "      <td>3 habs.,2 baños,85 m²,2ª Planta</td>\n",
       "      <td>CURSO ESCOLAR. INTERNET INCLUIDO. Vivienda con...</td>\n",
       "      <td>1</td>\n",
       "      <td>A Coruña</td>\n",
       "      <td>1</td>\n",
       "      <td>0</td>\n",
       "      <td>0</td>\n",
       "      <td>0</td>\n",
       "      <td>0</td>\n",
       "      <td>0</td>\n",
       "    </tr>\n",
       "    <tr>\n",
       "      <th>8460</th>\n",
       "      <td>Piso de alquiler en Rúa Rodrigo a de Santiago,...</td>\n",
       "      <td>450</td>\n",
       "      <td>70</td>\n",
       "      <td>3</td>\n",
       "      <td>1</td>\n",
       "      <td>3 habs.,1 baño,70 m²,4ª Planta</td>\n",
       "      <td>Vivienda muy soleada de 3 habitaciones semiamu...</td>\n",
       "      <td>1</td>\n",
       "      <td>A Coruña</td>\n",
       "      <td>1</td>\n",
       "      <td>0</td>\n",
       "      <td>0</td>\n",
       "      <td>0</td>\n",
       "      <td>0</td>\n",
       "      <td>0</td>\n",
       "    </tr>\n",
       "  </tbody>\n",
       "</table>\n",
       "</div>"
      ],
      "text/plain": [
       "                                                  title  price  surface  \\\n",
       "id                                                                        \n",
       "8459  Piso de alquiler en Rúa Eugenio Carre Aldao, O...    630       85   \n",
       "8460  Piso de alquiler en Rúa Rodrigo a de Santiago,...    450       70   \n",
       "\n",
       "      bedrooms  restrooms                         features  \\\n",
       "id                                                           \n",
       "8459         3          2  3 habs.,2 baños,85 m²,2ª Planta   \n",
       "8460         3          1   3 habs.,1 baño,70 m²,4ª Planta   \n",
       "\n",
       "                                            description  rent location_name  \\\n",
       "id                                                                            \n",
       "8459  CURSO ESCOLAR. INTERNET INCLUIDO. Vivienda con...     1      A Coruña   \n",
       "8460  Vivienda muy soleada de 3 habitaciones semiamu...     1      A Coruña   \n",
       "\n",
       "      is_province  Calefaccion  Terraza  Ascensor  Balcón  Parking  \n",
       "id                                                                  \n",
       "8459            1            0        0         0       0        0  \n",
       "8460            1            0        0         0       0        0  "
      ]
     },
     "execution_count": 377,
     "metadata": {},
     "output_type": "execute_result"
    }
   ],
   "source": [
    "df.head(2)"
   ]
  },
  {
   "cell_type": "code",
   "execution_count": 378,
   "metadata": {},
   "outputs": [
    {
     "data": {
      "text/html": [
       "<div>\n",
       "<style scoped>\n",
       "    .dataframe tbody tr th:only-of-type {\n",
       "        vertical-align: middle;\n",
       "    }\n",
       "\n",
       "    .dataframe tbody tr th {\n",
       "        vertical-align: top;\n",
       "    }\n",
       "\n",
       "    .dataframe thead th {\n",
       "        text-align: right;\n",
       "    }\n",
       "</style>\n",
       "<table border=\"1\" class=\"dataframe\">\n",
       "  <thead>\n",
       "    <tr style=\"text-align: right;\">\n",
       "      <th></th>\n",
       "      <th>price</th>\n",
       "      <th>surface</th>\n",
       "      <th>bedrooms</th>\n",
       "      <th>restrooms</th>\n",
       "      <th>location_name</th>\n",
       "      <th>Calefaccion</th>\n",
       "      <th>Terraza</th>\n",
       "      <th>Ascensor</th>\n",
       "      <th>Balcón</th>\n",
       "      <th>Parking</th>\n",
       "    </tr>\n",
       "    <tr>\n",
       "      <th>id</th>\n",
       "      <th></th>\n",
       "      <th></th>\n",
       "      <th></th>\n",
       "      <th></th>\n",
       "      <th></th>\n",
       "      <th></th>\n",
       "      <th></th>\n",
       "      <th></th>\n",
       "      <th></th>\n",
       "      <th></th>\n",
       "    </tr>\n",
       "  </thead>\n",
       "  <tbody>\n",
       "    <tr>\n",
       "      <th>8459</th>\n",
       "      <td>630</td>\n",
       "      <td>85</td>\n",
       "      <td>3</td>\n",
       "      <td>2</td>\n",
       "      <td>A Coruña</td>\n",
       "      <td>0</td>\n",
       "      <td>0</td>\n",
       "      <td>0</td>\n",
       "      <td>0</td>\n",
       "      <td>0</td>\n",
       "    </tr>\n",
       "    <tr>\n",
       "      <th>8460</th>\n",
       "      <td>450</td>\n",
       "      <td>70</td>\n",
       "      <td>3</td>\n",
       "      <td>1</td>\n",
       "      <td>A Coruña</td>\n",
       "      <td>0</td>\n",
       "      <td>0</td>\n",
       "      <td>0</td>\n",
       "      <td>0</td>\n",
       "      <td>0</td>\n",
       "    </tr>\n",
       "    <tr>\n",
       "      <th>8461</th>\n",
       "      <td>600</td>\n",
       "      <td>90</td>\n",
       "      <td>3</td>\n",
       "      <td>2</td>\n",
       "      <td>A Coruña</td>\n",
       "      <td>1</td>\n",
       "      <td>0</td>\n",
       "      <td>1</td>\n",
       "      <td>0</td>\n",
       "      <td>0</td>\n",
       "    </tr>\n",
       "  </tbody>\n",
       "</table>\n",
       "</div>"
      ],
      "text/plain": [
       "      price  surface  bedrooms  restrooms location_name  Calefaccion  Terraza  \\\n",
       "id                                                                              \n",
       "8459    630       85         3          2      A Coruña            0        0   \n",
       "8460    450       70         3          1      A Coruña            0        0   \n",
       "8461    600       90         3          2      A Coruña            1        0   \n",
       "\n",
       "      Ascensor  Balcón  Parking  \n",
       "id                               \n",
       "8459         0       0        0  \n",
       "8460         0       0        0  \n",
       "8461         1       0        0  "
      ]
     },
     "execution_count": 378,
     "metadata": {},
     "output_type": "execute_result"
    }
   ],
   "source": [
    "# eliminamos determinadas columnas\n",
    "df = df.drop([\"features\", \"description\", \"title\", \"rent\", \"is_province\"], axis=1)\n",
    "df.head(3)"
   ]
  },
  {
   "cell_type": "code",
   "execution_count": 379,
   "metadata": {},
   "outputs": [
    {
     "name": "stdout",
     "output_type": "stream",
     "text": [
      "<class 'pandas.core.frame.DataFrame'>\n",
      "Index: 84671 entries, 8459 to 2576472\n",
      "Data columns (total 10 columns):\n",
      " #   Column         Non-Null Count  Dtype \n",
      "---  ------         --------------  ----- \n",
      " 0   price          84671 non-null  int64 \n",
      " 1   surface        84671 non-null  int64 \n",
      " 2   bedrooms       84671 non-null  int64 \n",
      " 3   restrooms      84671 non-null  int64 \n",
      " 4   location_name  84671 non-null  object\n",
      " 5   Calefaccion    84671 non-null  int32 \n",
      " 6   Terraza        84671 non-null  int32 \n",
      " 7   Ascensor       84671 non-null  int32 \n",
      " 8   Balcón         84671 non-null  int32 \n",
      " 9   Parking        84671 non-null  int32 \n",
      "dtypes: int32(5), int64(4), object(1)\n",
      "memory usage: 5.5+ MB\n"
     ]
    }
   ],
   "source": [
    "df.info()"
   ]
  },
  {
   "cell_type": "code",
   "execution_count": 380,
   "metadata": {},
   "outputs": [],
   "source": [
    "# # Calcular la matriz de correlación\n",
    "# correlation_matrix = df.corr()\n",
    "\n",
    "# # Visualizar la matriz de correlación como un mapa de calor\n",
    "# plt.figure(figsize=(8, 6))\n",
    "# sns.heatmap(correlation_matrix, annot=True, cmap='coolwarm', linewidths=0.5)\n",
    "# plt.title('Matriz de Correlación')\n",
    "# plt.show()"
   ]
  },
  {
   "cell_type": "code",
   "execution_count": 381,
   "metadata": {},
   "outputs": [],
   "source": [
    "# # Cambiamos el nombre a las columnas\n",
    "# cambios = {\"Area\": \"País\", \"Item\": \"Producto\", \"Element\": \"Destino\", \"Unit\": \"Unidad\"}\n",
    "# comida = comida.rename(columns=cambios)"
   ]
  },
  {
   "cell_type": "code",
   "execution_count": 382,
   "metadata": {},
   "outputs": [],
   "source": [
    "# # Guardamos cambios en un nuevo archivo\n",
    "# poblacion.to_csv(\"data\\\\Poblacion Mundial-Limpio.csv\")\n",
    "# poblacion.head(3)"
   ]
  },
  {
   "cell_type": "markdown",
   "metadata": {},
   "source": [
    "MACHINE LEARNING"
   ]
  },
  {
   "cell_type": "markdown",
   "metadata": {},
   "source": [
    "1-RANDOM FOREST"
   ]
  },
  {
   "cell_type": "code",
   "execution_count": 383,
   "metadata": {},
   "outputs": [
    {
     "data": {
      "text/html": [
       "<div>\n",
       "<style scoped>\n",
       "    .dataframe tbody tr th:only-of-type {\n",
       "        vertical-align: middle;\n",
       "    }\n",
       "\n",
       "    .dataframe tbody tr th {\n",
       "        vertical-align: top;\n",
       "    }\n",
       "\n",
       "    .dataframe thead th {\n",
       "        text-align: right;\n",
       "    }\n",
       "</style>\n",
       "<table border=\"1\" class=\"dataframe\">\n",
       "  <thead>\n",
       "    <tr style=\"text-align: right;\">\n",
       "      <th></th>\n",
       "      <th>price</th>\n",
       "      <th>surface</th>\n",
       "      <th>bedrooms</th>\n",
       "      <th>restrooms</th>\n",
       "      <th>location_name</th>\n",
       "      <th>Calefaccion</th>\n",
       "      <th>Terraza</th>\n",
       "      <th>Ascensor</th>\n",
       "      <th>Balcón</th>\n",
       "      <th>Parking</th>\n",
       "    </tr>\n",
       "    <tr>\n",
       "      <th>id</th>\n",
       "      <th></th>\n",
       "      <th></th>\n",
       "      <th></th>\n",
       "      <th></th>\n",
       "      <th></th>\n",
       "      <th></th>\n",
       "      <th></th>\n",
       "      <th></th>\n",
       "      <th></th>\n",
       "      <th></th>\n",
       "    </tr>\n",
       "  </thead>\n",
       "  <tbody>\n",
       "    <tr>\n",
       "      <th>8459</th>\n",
       "      <td>630</td>\n",
       "      <td>85</td>\n",
       "      <td>3</td>\n",
       "      <td>2</td>\n",
       "      <td>A Coruña</td>\n",
       "      <td>0</td>\n",
       "      <td>0</td>\n",
       "      <td>0</td>\n",
       "      <td>0</td>\n",
       "      <td>0</td>\n",
       "    </tr>\n",
       "    <tr>\n",
       "      <th>8460</th>\n",
       "      <td>450</td>\n",
       "      <td>70</td>\n",
       "      <td>3</td>\n",
       "      <td>1</td>\n",
       "      <td>A Coruña</td>\n",
       "      <td>0</td>\n",
       "      <td>0</td>\n",
       "      <td>0</td>\n",
       "      <td>0</td>\n",
       "      <td>0</td>\n",
       "    </tr>\n",
       "  </tbody>\n",
       "</table>\n",
       "</div>"
      ],
      "text/plain": [
       "      price  surface  bedrooms  restrooms location_name  Calefaccion  Terraza  \\\n",
       "id                                                                              \n",
       "8459    630       85         3          2      A Coruña            0        0   \n",
       "8460    450       70         3          1      A Coruña            0        0   \n",
       "\n",
       "      Ascensor  Balcón  Parking  \n",
       "id                               \n",
       "8459         0       0        0  \n",
       "8460         0       0        0  "
      ]
     },
     "execution_count": 383,
     "metadata": {},
     "output_type": "execute_result"
    }
   ],
   "source": [
    "df.head(2)"
   ]
  },
  {
   "cell_type": "code",
   "execution_count": 384,
   "metadata": {},
   "outputs": [],
   "source": [
    "from sklearn.ensemble import RandomForestRegressor\n",
    "from sklearn.model_selection import train_test_split\n",
    "from sklearn.metrics import mean_absolute_error"
   ]
  },
  {
   "cell_type": "code",
   "execution_count": 385,
   "metadata": {},
   "outputs": [
    {
     "data": {
      "text/plain": [
       "array(['A Coruña', 'Alacant', 'Albacete', 'Almería', 'Araba', 'Asturias',\n",
       "       'Ávila', 'Badajoz', 'Barcelona', 'Bizkaia', 'Burgos', 'Cáceres',\n",
       "       'Cádiz', 'Cantabria', 'Castelló', 'Ciudad Real', 'Córdoba',\n",
       "       'Cuenca', 'Gipuzkoa', 'Girona', 'Granada', 'Guadalajara', 'Huelva',\n",
       "       'Huesca', 'Illes Balears', 'Jaén', 'La Rioja', 'Las Palmas',\n",
       "       'León', 'Lleida', 'Lugo', 'Madrid', 'Málaga', 'Murcia', 'Navarra',\n",
       "       'Ourense', 'Palencia', 'Pontevedra', 'Salamanca',\n",
       "       'Santa Cruz de Tenerife', 'Segovia', 'Sevilla', 'Soria',\n",
       "       'Tarragona', 'Teruel', 'Toledo', 'Valencia', 'Valladolid',\n",
       "       'Zamora', 'Zaragoza'], dtype=object)"
      ]
     },
     "execution_count": 385,
     "metadata": {},
     "output_type": "execute_result"
    }
   ],
   "source": [
    "df['location_name'].unique()"
   ]
  },
  {
   "cell_type": "code",
   "execution_count": 386,
   "metadata": {},
   "outputs": [],
   "source": [
    "# provincias = df['location_name'].unique()\n",
    "# for p in provincias:\n",
    "#     df[]"
   ]
  },
  {
   "cell_type": "code",
   "execution_count": 342,
   "metadata": {},
   "outputs": [],
   "source": [
    "df = df[df['location_name'] == 'Barcelona']"
   ]
  },
  {
   "cell_type": "code",
   "execution_count": 387,
   "metadata": {},
   "outputs": [],
   "source": [
    "df.drop('location_name', axis=1, inplace=True)"
   ]
  },
  {
   "cell_type": "code",
   "execution_count": 388,
   "metadata": {},
   "outputs": [
    {
     "data": {
      "text/html": [
       "<div>\n",
       "<style scoped>\n",
       "    .dataframe tbody tr th:only-of-type {\n",
       "        vertical-align: middle;\n",
       "    }\n",
       "\n",
       "    .dataframe tbody tr th {\n",
       "        vertical-align: top;\n",
       "    }\n",
       "\n",
       "    .dataframe thead th {\n",
       "        text-align: right;\n",
       "    }\n",
       "</style>\n",
       "<table border=\"1\" class=\"dataframe\">\n",
       "  <thead>\n",
       "    <tr style=\"text-align: right;\">\n",
       "      <th></th>\n",
       "      <th>price</th>\n",
       "      <th>surface</th>\n",
       "      <th>bedrooms</th>\n",
       "      <th>restrooms</th>\n",
       "      <th>Calefaccion</th>\n",
       "      <th>Terraza</th>\n",
       "      <th>Ascensor</th>\n",
       "      <th>Balcón</th>\n",
       "      <th>Parking</th>\n",
       "    </tr>\n",
       "    <tr>\n",
       "      <th>id</th>\n",
       "      <th></th>\n",
       "      <th></th>\n",
       "      <th></th>\n",
       "      <th></th>\n",
       "      <th></th>\n",
       "      <th></th>\n",
       "      <th></th>\n",
       "      <th></th>\n",
       "      <th></th>\n",
       "    </tr>\n",
       "  </thead>\n",
       "  <tbody>\n",
       "    <tr>\n",
       "      <th>8459</th>\n",
       "      <td>630</td>\n",
       "      <td>85</td>\n",
       "      <td>3</td>\n",
       "      <td>2</td>\n",
       "      <td>0</td>\n",
       "      <td>0</td>\n",
       "      <td>0</td>\n",
       "      <td>0</td>\n",
       "      <td>0</td>\n",
       "    </tr>\n",
       "    <tr>\n",
       "      <th>8460</th>\n",
       "      <td>450</td>\n",
       "      <td>70</td>\n",
       "      <td>3</td>\n",
       "      <td>1</td>\n",
       "      <td>0</td>\n",
       "      <td>0</td>\n",
       "      <td>0</td>\n",
       "      <td>0</td>\n",
       "      <td>0</td>\n",
       "    </tr>\n",
       "  </tbody>\n",
       "</table>\n",
       "</div>"
      ],
      "text/plain": [
       "      price  surface  bedrooms  restrooms  Calefaccion  Terraza  Ascensor  \\\n",
       "id                                                                          \n",
       "8459    630       85         3          2            0        0         0   \n",
       "8460    450       70         3          1            0        0         0   \n",
       "\n",
       "      Balcón  Parking  \n",
       "id                     \n",
       "8459       0        0  \n",
       "8460       0        0  "
      ]
     },
     "execution_count": 388,
     "metadata": {},
     "output_type": "execute_result"
    }
   ],
   "source": [
    "df.head(2)"
   ]
  },
  {
   "cell_type": "code",
   "execution_count": 389,
   "metadata": {},
   "outputs": [],
   "source": [
    "# Definir las características (X) y la columna objetivo (y)\n",
    "X = df.drop(columns=['price']) # Todas las columnas excepto 'Price_euros'\n",
    "Y = df['price']\n",
    "# IMPORTANTE DIVIDIR ENTRE TRAIN Y TEST LUEGO ESCALAR"
   ]
  },
  {
   "cell_type": "code",
   "execution_count": 390,
   "metadata": {},
   "outputs": [],
   "source": [
    "# Crear un objeto MinMaxScaler\n",
    "scaler = MinMaxScaler()"
   ]
  },
  {
   "cell_type": "code",
   "execution_count": 391,
   "metadata": {},
   "outputs": [],
   "source": [
    "# Separar los datos en conjuntos de entrenamiento y prueba (subtrain y subtest)\n",
    "X_train, X_test, Y_train, Y_test = train_test_split(X, Y, test_size=0.01, random_state=42)"
   ]
  },
  {
   "cell_type": "code",
   "execution_count": 392,
   "metadata": {},
   "outputs": [],
   "source": [
    "# # Escalar la columna \"surface\" en el rango [0, 1] en TRAIN\n",
    "# X_train['surface_scaled'] = scaler.fit_transform(X[['surface']])\n",
    "\n",
    "# # Escalar la columna \"surface\" en el rango [0, 1] en TEST\n",
    "# X_test['surface_scaled'] = scaler.fit_transform(X[['surface']])"
   ]
  },
  {
   "cell_type": "code",
   "execution_count": 393,
   "metadata": {},
   "outputs": [
    {
     "name": "stdout",
     "output_type": "stream",
     "text": [
      "X_train_shape:  (83824, 8)\n",
      "X_test_shape:  (847, 8)\n",
      "Y_train_shape:  (83824,)\n",
      "Y_test_shape:  (847,)\n"
     ]
    }
   ],
   "source": [
    "print('X_train_shape: ', X_train.shape)\n",
    "print('X_test_shape: ', X_test.shape)\n",
    "print('Y_train_shape: ', Y_train.shape)\n",
    "print('Y_test_shape: ', Y_test.shape)"
   ]
  },
  {
   "cell_type": "code",
   "execution_count": 394,
   "metadata": {},
   "outputs": [
    {
     "data": {
      "text/html": [
       "<style>#sk-container-id-5 {color: black;}#sk-container-id-5 pre{padding: 0;}#sk-container-id-5 div.sk-toggleable {background-color: white;}#sk-container-id-5 label.sk-toggleable__label {cursor: pointer;display: block;width: 100%;margin-bottom: 0;padding: 0.3em;box-sizing: border-box;text-align: center;}#sk-container-id-5 label.sk-toggleable__label-arrow:before {content: \"▸\";float: left;margin-right: 0.25em;color: #696969;}#sk-container-id-5 label.sk-toggleable__label-arrow:hover:before {color: black;}#sk-container-id-5 div.sk-estimator:hover label.sk-toggleable__label-arrow:before {color: black;}#sk-container-id-5 div.sk-toggleable__content {max-height: 0;max-width: 0;overflow: hidden;text-align: left;background-color: #f0f8ff;}#sk-container-id-5 div.sk-toggleable__content pre {margin: 0.2em;color: black;border-radius: 0.25em;background-color: #f0f8ff;}#sk-container-id-5 input.sk-toggleable__control:checked~div.sk-toggleable__content {max-height: 200px;max-width: 100%;overflow: auto;}#sk-container-id-5 input.sk-toggleable__control:checked~label.sk-toggleable__label-arrow:before {content: \"▾\";}#sk-container-id-5 div.sk-estimator input.sk-toggleable__control:checked~label.sk-toggleable__label {background-color: #d4ebff;}#sk-container-id-5 div.sk-label input.sk-toggleable__control:checked~label.sk-toggleable__label {background-color: #d4ebff;}#sk-container-id-5 input.sk-hidden--visually {border: 0;clip: rect(1px 1px 1px 1px);clip: rect(1px, 1px, 1px, 1px);height: 1px;margin: -1px;overflow: hidden;padding: 0;position: absolute;width: 1px;}#sk-container-id-5 div.sk-estimator {font-family: monospace;background-color: #f0f8ff;border: 1px dotted black;border-radius: 0.25em;box-sizing: border-box;margin-bottom: 0.5em;}#sk-container-id-5 div.sk-estimator:hover {background-color: #d4ebff;}#sk-container-id-5 div.sk-parallel-item::after {content: \"\";width: 100%;border-bottom: 1px solid gray;flex-grow: 1;}#sk-container-id-5 div.sk-label:hover label.sk-toggleable__label {background-color: #d4ebff;}#sk-container-id-5 div.sk-serial::before {content: \"\";position: absolute;border-left: 1px solid gray;box-sizing: border-box;top: 0;bottom: 0;left: 50%;z-index: 0;}#sk-container-id-5 div.sk-serial {display: flex;flex-direction: column;align-items: center;background-color: white;padding-right: 0.2em;padding-left: 0.2em;position: relative;}#sk-container-id-5 div.sk-item {position: relative;z-index: 1;}#sk-container-id-5 div.sk-parallel {display: flex;align-items: stretch;justify-content: center;background-color: white;position: relative;}#sk-container-id-5 div.sk-item::before, #sk-container-id-5 div.sk-parallel-item::before {content: \"\";position: absolute;border-left: 1px solid gray;box-sizing: border-box;top: 0;bottom: 0;left: 50%;z-index: -1;}#sk-container-id-5 div.sk-parallel-item {display: flex;flex-direction: column;z-index: 1;position: relative;background-color: white;}#sk-container-id-5 div.sk-parallel-item:first-child::after {align-self: flex-end;width: 50%;}#sk-container-id-5 div.sk-parallel-item:last-child::after {align-self: flex-start;width: 50%;}#sk-container-id-5 div.sk-parallel-item:only-child::after {width: 0;}#sk-container-id-5 div.sk-dashed-wrapped {border: 1px dashed gray;margin: 0 0.4em 0.5em 0.4em;box-sizing: border-box;padding-bottom: 0.4em;background-color: white;}#sk-container-id-5 div.sk-label label {font-family: monospace;font-weight: bold;display: inline-block;line-height: 1.2em;}#sk-container-id-5 div.sk-label-container {text-align: center;}#sk-container-id-5 div.sk-container {/* jupyter's `normalize.less` sets `[hidden] { display: none; }` but bootstrap.min.css set `[hidden] { display: none !important; }` so we also need the `!important` here to be able to override the default hidden behavior on the sphinx rendered scikit-learn.org. See: https://github.com/scikit-learn/scikit-learn/issues/21755 */display: inline-block !important;position: relative;}#sk-container-id-5 div.sk-text-repr-fallback {display: none;}</style><div id=\"sk-container-id-5\" class=\"sk-top-container\"><div class=\"sk-text-repr-fallback\"><pre>RandomForestRegressor(max_depth=4, random_state=42)</pre><b>In a Jupyter environment, please rerun this cell to show the HTML representation or trust the notebook. <br />On GitHub, the HTML representation is unable to render, please try loading this page with nbviewer.org.</b></div><div class=\"sk-container\" hidden><div class=\"sk-item\"><div class=\"sk-estimator sk-toggleable\"><input class=\"sk-toggleable__control sk-hidden--visually\" id=\"sk-estimator-id-5\" type=\"checkbox\" checked><label for=\"sk-estimator-id-5\" class=\"sk-toggleable__label sk-toggleable__label-arrow\">RandomForestRegressor</label><div class=\"sk-toggleable__content\"><pre>RandomForestRegressor(max_depth=4, random_state=42)</pre></div></div></div></div></div>"
      ],
      "text/plain": [
       "RandomForestRegressor(max_depth=4, random_state=42)"
      ]
     },
     "execution_count": 394,
     "metadata": {},
     "output_type": "execute_result"
    }
   ],
   "source": [
    "# Crear y entrenar el modelo Random Forest\n",
    "rf_regressor = RandomForestRegressor(random_state=42, max_depth=4)\n",
    "rf_regressor.fit(X_train, Y_train)"
   ]
  },
  {
   "cell_type": "code",
   "execution_count": 395,
   "metadata": {},
   "outputs": [],
   "source": [
    "predictions_rf_train = rf_regressor.predict(X_train)\n",
    "predictions_rf_test = rf_regressor.predict(X_test)"
   ]
  },
  {
   "cell_type": "code",
   "execution_count": 396,
   "metadata": {},
   "outputs": [
    {
     "name": "stdout",
     "output_type": "stream",
     "text": [
      "260.9815089613064\n",
      "257.12555544956496\n"
     ]
    }
   ],
   "source": [
    "mae_train = mean_absolute_error(Y_train, predictions_rf_train)\n",
    "mae_test = mean_absolute_error(Y_test, predictions_rf_test)\n",
    "print(mae_train)\n",
    "print(mae_test)"
   ]
  },
  {
   "cell_type": "code",
   "execution_count": 397,
   "metadata": {},
   "outputs": [],
   "source": [
    "# Obtener la importancia de las características\n",
    "feature_importance = rf_regressor.feature_importances_\n",
    "\n",
    "# Obtener los nombres de las características (columnas)\n",
    "feature_names = X.columns"
   ]
  },
  {
   "cell_type": "markdown",
   "metadata": {},
   "source": [
    "2 - ADABOOST"
   ]
  },
  {
   "cell_type": "code",
   "execution_count": 399,
   "metadata": {},
   "outputs": [],
   "source": [
    "import pandas as pd\n",
    "from sklearn.model_selection import train_test_split\n",
    "from sklearn.ensemble import AdaBoostRegressor\n",
    "from sklearn.metrics import mean_absolute_error"
   ]
  },
  {
   "cell_type": "code",
   "execution_count": 400,
   "metadata": {},
   "outputs": [],
   "source": [
    "# Definir las características (X) y la columna objetivo (y)\n",
    "X = df.drop(columns=['price']) # Todas las columnas excepto 'Price_euros'\n",
    "Y = df['price']\n",
    "# IMPORTANTE DIVIDIR ENTRE TRAIN Y TEST LUEGO ESCALAR"
   ]
  },
  {
   "cell_type": "code",
   "execution_count": 401,
   "metadata": {},
   "outputs": [],
   "source": [
    "# Separar los datos en conjuntos de entrenamiento y prueba (subtrain y subtest)\n",
    "X_train, X_test, Y_train, Y_test = train_test_split(X, Y, test_size=0.01, random_state=42)"
   ]
  },
  {
   "cell_type": "code",
   "execution_count": 402,
   "metadata": {},
   "outputs": [
    {
     "data": {
      "text/html": [
       "<style>#sk-container-id-6 {color: black;}#sk-container-id-6 pre{padding: 0;}#sk-container-id-6 div.sk-toggleable {background-color: white;}#sk-container-id-6 label.sk-toggleable__label {cursor: pointer;display: block;width: 100%;margin-bottom: 0;padding: 0.3em;box-sizing: border-box;text-align: center;}#sk-container-id-6 label.sk-toggleable__label-arrow:before {content: \"▸\";float: left;margin-right: 0.25em;color: #696969;}#sk-container-id-6 label.sk-toggleable__label-arrow:hover:before {color: black;}#sk-container-id-6 div.sk-estimator:hover label.sk-toggleable__label-arrow:before {color: black;}#sk-container-id-6 div.sk-toggleable__content {max-height: 0;max-width: 0;overflow: hidden;text-align: left;background-color: #f0f8ff;}#sk-container-id-6 div.sk-toggleable__content pre {margin: 0.2em;color: black;border-radius: 0.25em;background-color: #f0f8ff;}#sk-container-id-6 input.sk-toggleable__control:checked~div.sk-toggleable__content {max-height: 200px;max-width: 100%;overflow: auto;}#sk-container-id-6 input.sk-toggleable__control:checked~label.sk-toggleable__label-arrow:before {content: \"▾\";}#sk-container-id-6 div.sk-estimator input.sk-toggleable__control:checked~label.sk-toggleable__label {background-color: #d4ebff;}#sk-container-id-6 div.sk-label input.sk-toggleable__control:checked~label.sk-toggleable__label {background-color: #d4ebff;}#sk-container-id-6 input.sk-hidden--visually {border: 0;clip: rect(1px 1px 1px 1px);clip: rect(1px, 1px, 1px, 1px);height: 1px;margin: -1px;overflow: hidden;padding: 0;position: absolute;width: 1px;}#sk-container-id-6 div.sk-estimator {font-family: monospace;background-color: #f0f8ff;border: 1px dotted black;border-radius: 0.25em;box-sizing: border-box;margin-bottom: 0.5em;}#sk-container-id-6 div.sk-estimator:hover {background-color: #d4ebff;}#sk-container-id-6 div.sk-parallel-item::after {content: \"\";width: 100%;border-bottom: 1px solid gray;flex-grow: 1;}#sk-container-id-6 div.sk-label:hover label.sk-toggleable__label {background-color: #d4ebff;}#sk-container-id-6 div.sk-serial::before {content: \"\";position: absolute;border-left: 1px solid gray;box-sizing: border-box;top: 0;bottom: 0;left: 50%;z-index: 0;}#sk-container-id-6 div.sk-serial {display: flex;flex-direction: column;align-items: center;background-color: white;padding-right: 0.2em;padding-left: 0.2em;position: relative;}#sk-container-id-6 div.sk-item {position: relative;z-index: 1;}#sk-container-id-6 div.sk-parallel {display: flex;align-items: stretch;justify-content: center;background-color: white;position: relative;}#sk-container-id-6 div.sk-item::before, #sk-container-id-6 div.sk-parallel-item::before {content: \"\";position: absolute;border-left: 1px solid gray;box-sizing: border-box;top: 0;bottom: 0;left: 50%;z-index: -1;}#sk-container-id-6 div.sk-parallel-item {display: flex;flex-direction: column;z-index: 1;position: relative;background-color: white;}#sk-container-id-6 div.sk-parallel-item:first-child::after {align-self: flex-end;width: 50%;}#sk-container-id-6 div.sk-parallel-item:last-child::after {align-self: flex-start;width: 50%;}#sk-container-id-6 div.sk-parallel-item:only-child::after {width: 0;}#sk-container-id-6 div.sk-dashed-wrapped {border: 1px dashed gray;margin: 0 0.4em 0.5em 0.4em;box-sizing: border-box;padding-bottom: 0.4em;background-color: white;}#sk-container-id-6 div.sk-label label {font-family: monospace;font-weight: bold;display: inline-block;line-height: 1.2em;}#sk-container-id-6 div.sk-label-container {text-align: center;}#sk-container-id-6 div.sk-container {/* jupyter's `normalize.less` sets `[hidden] { display: none; }` but bootstrap.min.css set `[hidden] { display: none !important; }` so we also need the `!important` here to be able to override the default hidden behavior on the sphinx rendered scikit-learn.org. See: https://github.com/scikit-learn/scikit-learn/issues/21755 */display: inline-block !important;position: relative;}#sk-container-id-6 div.sk-text-repr-fallback {display: none;}</style><div id=\"sk-container-id-6\" class=\"sk-top-container\"><div class=\"sk-text-repr-fallback\"><pre>AdaBoostRegressor(learning_rate=0.2, loss=&#x27;exponential&#x27;, n_estimators=100,\n",
       "                  random_state=42)</pre><b>In a Jupyter environment, please rerun this cell to show the HTML representation or trust the notebook. <br />On GitHub, the HTML representation is unable to render, please try loading this page with nbviewer.org.</b></div><div class=\"sk-container\" hidden><div class=\"sk-item\"><div class=\"sk-estimator sk-toggleable\"><input class=\"sk-toggleable__control sk-hidden--visually\" id=\"sk-estimator-id-6\" type=\"checkbox\" checked><label for=\"sk-estimator-id-6\" class=\"sk-toggleable__label sk-toggleable__label-arrow\">AdaBoostRegressor</label><div class=\"sk-toggleable__content\"><pre>AdaBoostRegressor(learning_rate=0.2, loss=&#x27;exponential&#x27;, n_estimators=100,\n",
       "                  random_state=42)</pre></div></div></div></div></div>"
      ],
      "text/plain": [
       "AdaBoostRegressor(learning_rate=0.2, loss='exponential', n_estimators=100,\n",
       "                  random_state=42)"
      ]
     },
     "execution_count": 402,
     "metadata": {},
     "output_type": "execute_result"
    }
   ],
   "source": [
    "# Entrenar el modelo ADABOOST\n",
    "model2 = AdaBoostRegressor(n_estimators=100, learning_rate = 0.2, loss=\"exponential\", random_state=42)\n",
    "model2.fit(X_train, Y_train)"
   ]
  },
  {
   "cell_type": "code",
   "execution_count": 403,
   "metadata": {},
   "outputs": [],
   "source": [
    "# Realizar predicciones\n",
    "y_pred2 = model2.predict(X_test)"
   ]
  },
  {
   "cell_type": "code",
   "execution_count": 404,
   "metadata": {},
   "outputs": [
    {
     "data": {
      "text/plain": [
       "316.0588447545309"
      ]
     },
     "execution_count": 404,
     "metadata": {},
     "output_type": "execute_result"
    }
   ],
   "source": [
    "mae = mean_absolute_error(Y_test, y_pred2)\n",
    "mae"
   ]
  },
  {
   "cell_type": "markdown",
   "metadata": {},
   "source": [
    "3 - XGBOOST"
   ]
  },
  {
   "cell_type": "code",
   "execution_count": 405,
   "metadata": {},
   "outputs": [],
   "source": [
    "import xgboost as xgb"
   ]
  },
  {
   "cell_type": "code",
   "execution_count": 406,
   "metadata": {},
   "outputs": [],
   "source": [
    "# Definir las características (X) y la columna objetivo (y)\n",
    "X = df.drop(columns=['price']) # Todas las columnas excepto 'Price_euros'\n",
    "Y = df['price']\n",
    "# IMPORTANTE DIVIDIR ENTRE TRAIN Y TEST LUEGO ESCALAR"
   ]
  },
  {
   "cell_type": "code",
   "execution_count": 407,
   "metadata": {},
   "outputs": [],
   "source": [
    "# Separar los datos en conjuntos de entrenamiento y prueba (subtrain y subtest)\n",
    "X_train, X_test, Y_train, Y_test = train_test_split(X, Y, test_size=0.01, random_state=42)"
   ]
  },
  {
   "cell_type": "code",
   "execution_count": 409,
   "metadata": {},
   "outputs": [],
   "source": [
    "params = {\n",
    "    'n_estimators': 300,\n",
    "    'learning_rate': 0.8,\n",
    "    'max_depth': 3,\n",
    "    'subsample': 0.8,\n",
    "    'colsample_bytree': 0.8,\n",
    "    'objective': 'reg:squarederror', \n",
    "    \"gamma\": 8000\n",
    "}\n",
    "\n",
    "# Crear el modelo XGBoost con los parámetros especificados\n",
    "xgb1 = xgb.XGBRegressor(**params)"
   ]
  },
  {
   "cell_type": "code",
   "execution_count": 410,
   "metadata": {},
   "outputs": [
    {
     "data": {
      "text/html": [
       "<style>#sk-container-id-7 {color: black;}#sk-container-id-7 pre{padding: 0;}#sk-container-id-7 div.sk-toggleable {background-color: white;}#sk-container-id-7 label.sk-toggleable__label {cursor: pointer;display: block;width: 100%;margin-bottom: 0;padding: 0.3em;box-sizing: border-box;text-align: center;}#sk-container-id-7 label.sk-toggleable__label-arrow:before {content: \"▸\";float: left;margin-right: 0.25em;color: #696969;}#sk-container-id-7 label.sk-toggleable__label-arrow:hover:before {color: black;}#sk-container-id-7 div.sk-estimator:hover label.sk-toggleable__label-arrow:before {color: black;}#sk-container-id-7 div.sk-toggleable__content {max-height: 0;max-width: 0;overflow: hidden;text-align: left;background-color: #f0f8ff;}#sk-container-id-7 div.sk-toggleable__content pre {margin: 0.2em;color: black;border-radius: 0.25em;background-color: #f0f8ff;}#sk-container-id-7 input.sk-toggleable__control:checked~div.sk-toggleable__content {max-height: 200px;max-width: 100%;overflow: auto;}#sk-container-id-7 input.sk-toggleable__control:checked~label.sk-toggleable__label-arrow:before {content: \"▾\";}#sk-container-id-7 div.sk-estimator input.sk-toggleable__control:checked~label.sk-toggleable__label {background-color: #d4ebff;}#sk-container-id-7 div.sk-label input.sk-toggleable__control:checked~label.sk-toggleable__label {background-color: #d4ebff;}#sk-container-id-7 input.sk-hidden--visually {border: 0;clip: rect(1px 1px 1px 1px);clip: rect(1px, 1px, 1px, 1px);height: 1px;margin: -1px;overflow: hidden;padding: 0;position: absolute;width: 1px;}#sk-container-id-7 div.sk-estimator {font-family: monospace;background-color: #f0f8ff;border: 1px dotted black;border-radius: 0.25em;box-sizing: border-box;margin-bottom: 0.5em;}#sk-container-id-7 div.sk-estimator:hover {background-color: #d4ebff;}#sk-container-id-7 div.sk-parallel-item::after {content: \"\";width: 100%;border-bottom: 1px solid gray;flex-grow: 1;}#sk-container-id-7 div.sk-label:hover label.sk-toggleable__label {background-color: #d4ebff;}#sk-container-id-7 div.sk-serial::before {content: \"\";position: absolute;border-left: 1px solid gray;box-sizing: border-box;top: 0;bottom: 0;left: 50%;z-index: 0;}#sk-container-id-7 div.sk-serial {display: flex;flex-direction: column;align-items: center;background-color: white;padding-right: 0.2em;padding-left: 0.2em;position: relative;}#sk-container-id-7 div.sk-item {position: relative;z-index: 1;}#sk-container-id-7 div.sk-parallel {display: flex;align-items: stretch;justify-content: center;background-color: white;position: relative;}#sk-container-id-7 div.sk-item::before, #sk-container-id-7 div.sk-parallel-item::before {content: \"\";position: absolute;border-left: 1px solid gray;box-sizing: border-box;top: 0;bottom: 0;left: 50%;z-index: -1;}#sk-container-id-7 div.sk-parallel-item {display: flex;flex-direction: column;z-index: 1;position: relative;background-color: white;}#sk-container-id-7 div.sk-parallel-item:first-child::after {align-self: flex-end;width: 50%;}#sk-container-id-7 div.sk-parallel-item:last-child::after {align-self: flex-start;width: 50%;}#sk-container-id-7 div.sk-parallel-item:only-child::after {width: 0;}#sk-container-id-7 div.sk-dashed-wrapped {border: 1px dashed gray;margin: 0 0.4em 0.5em 0.4em;box-sizing: border-box;padding-bottom: 0.4em;background-color: white;}#sk-container-id-7 div.sk-label label {font-family: monospace;font-weight: bold;display: inline-block;line-height: 1.2em;}#sk-container-id-7 div.sk-label-container {text-align: center;}#sk-container-id-7 div.sk-container {/* jupyter's `normalize.less` sets `[hidden] { display: none; }` but bootstrap.min.css set `[hidden] { display: none !important; }` so we also need the `!important` here to be able to override the default hidden behavior on the sphinx rendered scikit-learn.org. See: https://github.com/scikit-learn/scikit-learn/issues/21755 */display: inline-block !important;position: relative;}#sk-container-id-7 div.sk-text-repr-fallback {display: none;}</style><div id=\"sk-container-id-7\" class=\"sk-top-container\"><div class=\"sk-text-repr-fallback\"><pre>XGBRegressor(base_score=None, booster=None, callbacks=None,\n",
       "             colsample_bylevel=None, colsample_bynode=None,\n",
       "             colsample_bytree=0.8, early_stopping_rounds=None,\n",
       "             enable_categorical=False, eval_metric=None, feature_types=None,\n",
       "             gamma=8000, gpu_id=None, grow_policy=None, importance_type=None,\n",
       "             interaction_constraints=None, learning_rate=0.8, max_bin=None,\n",
       "             max_cat_threshold=None, max_cat_to_onehot=None,\n",
       "             max_delta_step=None, max_depth=3, max_leaves=None,\n",
       "             min_child_weight=None, missing=nan, monotone_constraints=None,\n",
       "             n_estimators=300, n_jobs=None, num_parallel_tree=None,\n",
       "             predictor=None, random_state=None, ...)</pre><b>In a Jupyter environment, please rerun this cell to show the HTML representation or trust the notebook. <br />On GitHub, the HTML representation is unable to render, please try loading this page with nbviewer.org.</b></div><div class=\"sk-container\" hidden><div class=\"sk-item\"><div class=\"sk-estimator sk-toggleable\"><input class=\"sk-toggleable__control sk-hidden--visually\" id=\"sk-estimator-id-7\" type=\"checkbox\" checked><label for=\"sk-estimator-id-7\" class=\"sk-toggleable__label sk-toggleable__label-arrow\">XGBRegressor</label><div class=\"sk-toggleable__content\"><pre>XGBRegressor(base_score=None, booster=None, callbacks=None,\n",
       "             colsample_bylevel=None, colsample_bynode=None,\n",
       "             colsample_bytree=0.8, early_stopping_rounds=None,\n",
       "             enable_categorical=False, eval_metric=None, feature_types=None,\n",
       "             gamma=8000, gpu_id=None, grow_policy=None, importance_type=None,\n",
       "             interaction_constraints=None, learning_rate=0.8, max_bin=None,\n",
       "             max_cat_threshold=None, max_cat_to_onehot=None,\n",
       "             max_delta_step=None, max_depth=3, max_leaves=None,\n",
       "             min_child_weight=None, missing=nan, monotone_constraints=None,\n",
       "             n_estimators=300, n_jobs=None, num_parallel_tree=None,\n",
       "             predictor=None, random_state=None, ...)</pre></div></div></div></div></div>"
      ],
      "text/plain": [
       "XGBRegressor(base_score=None, booster=None, callbacks=None,\n",
       "             colsample_bylevel=None, colsample_bynode=None,\n",
       "             colsample_bytree=0.8, early_stopping_rounds=None,\n",
       "             enable_categorical=False, eval_metric=None, feature_types=None,\n",
       "             gamma=8000, gpu_id=None, grow_policy=None, importance_type=None,\n",
       "             interaction_constraints=None, learning_rate=0.8, max_bin=None,\n",
       "             max_cat_threshold=None, max_cat_to_onehot=None,\n",
       "             max_delta_step=None, max_depth=3, max_leaves=None,\n",
       "             min_child_weight=None, missing=nan, monotone_constraints=None,\n",
       "             n_estimators=300, n_jobs=None, num_parallel_tree=None,\n",
       "             predictor=None, random_state=None, ...)"
      ]
     },
     "execution_count": 410,
     "metadata": {},
     "output_type": "execute_result"
    }
   ],
   "source": [
    "# Entrenar el modelo con el conjunto de entrenamiento\n",
    "xgb1.fit(X_train, Y_train)"
   ]
  },
  {
   "cell_type": "code",
   "execution_count": 411,
   "metadata": {},
   "outputs": [],
   "source": [
    "# Realizar predicciones en el conjunto de prueba\n",
    "y_pred3 = xgb1.predict(X_test)"
   ]
  },
  {
   "cell_type": "code",
   "execution_count": 412,
   "metadata": {},
   "outputs": [
    {
     "data": {
      "text/plain": [
       "255.14709155590504"
      ]
     },
     "execution_count": 412,
     "metadata": {},
     "output_type": "execute_result"
    }
   ],
   "source": [
    "mae = mean_absolute_error(Y_test, y_pred3)\n",
    "mae"
   ]
  },
  {
   "cell_type": "markdown",
   "metadata": {},
   "source": [
    "GUARDAR MODELO - PICKLE"
   ]
  },
  {
   "cell_type": "code",
   "execution_count": 413,
   "metadata": {},
   "outputs": [
    {
     "name": "stdout",
     "output_type": "stream",
     "text": [
      "El modelo ha sido guardado en rf_regressor.pkl\n"
     ]
    }
   ],
   "source": [
    "import pickle\n",
    "\n",
    "# Supongamos que tienes un modelo llamado \"modelo\" que deseas guardar\n",
    "rf_regressor = ...  # Reemplaza esto con tu modelo\n",
    "\n",
    "# Nombre del archivo en el que deseas guardar el modelo\n",
    "nombre_archivo = 'rf_regressor.pkl'\n",
    "\n",
    "# Abre el archivo en modo binario para escribir el modelo\n",
    "with open(nombre_archivo, 'wb') as archivo:\n",
    "    pickle.dump(rf_regressor, archivo)\n",
    "\n",
    "print(f\"El modelo ha sido guardado en {nombre_archivo}\")"
   ]
  }
 ],
 "metadata": {
  "kernelspec": {
   "display_name": "Python 3 (ipykernel)",
   "language": "python",
   "name": "python3"
  },
  "language_info": {
   "codemirror_mode": {
    "name": "ipython",
    "version": 3
   },
   "file_extension": ".py",
   "mimetype": "text/x-python",
   "name": "python",
   "nbconvert_exporter": "python",
   "pygments_lexer": "ipython3",
   "version": "3.11.3"
  }
 },
 "nbformat": 4,
 "nbformat_minor": 4
}
